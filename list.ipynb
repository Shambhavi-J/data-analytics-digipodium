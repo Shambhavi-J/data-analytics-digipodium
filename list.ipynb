{
 "cells": [
  {
   "cell_type": "markdown",
   "metadata": {},
   "source": [
    "#collections"
   ]
  },
  {
   "cell_type": "markdown",
   "metadata": {},
   "source": [
    "list* - indexed, ordered, hetro, duplicate , nesting, represented [], method list(), mutable\n",
    "tuple - \n",
    "set \n",
    "dict*\n"
   ]
  },
  {
   "cell_type": "code",
   "execution_count": 3,
   "metadata": {},
   "outputs": [],
   "source": [
    "list1 = ['nikhil','ruby', 'aman', 'jacob' ]\n",
    "list2 = [1,2,3,4,5,6,7]\n",
    "list3 = ['nikhil', 1, 'jacob',2,'ruby',3,'aman',4]\n",
    "list4 = [[123],[212],[345]]\n"
   ]
  },
  {
   "cell_type": "code",
   "execution_count": 15,
   "metadata": {},
   "outputs": [
    {
     "name": "stdout",
     "output_type": "stream",
     "text": [
      "list = [2, 4, 6, 'a', 10, 'b', 16, 'c', 20]\n",
      "list[5]= b\n",
      "list[4]= 10\n",
      "list[-3]= 16\n",
      "list[-11]= a\n"
     ]
    }
   ],
   "source": [
    "list = [2,4,6,'a',10,'b',16,'c',20,]\n",
    "print('list =',list)\n",
    "print('list[5]=',list[5])\n",
    "print('list[4]=',list[4])\n",
    "print('list[-3]=',list[-3])\n",
    "print('list[-11]=',list[-6])"
   ]
  },
  {
   "cell_type": "code",
   "execution_count": 13,
   "metadata": {},
   "outputs": [
    {
     "name": "stdout",
     "output_type": "stream",
     "text": [
      "[5, 6]\n"
     ]
    }
   ],
   "source": [
    "list = [1,2,3,4,5,6,7,8,9,10]\n",
    "slicelist = list[4:6]\n",
    "print(slicelist)"
   ]
  },
  {
   "cell_type": "code",
   "execution_count": 22,
   "metadata": {},
   "outputs": [
    {
     "name": "stdout",
     "output_type": "stream",
     "text": [
      "[10, 20, 30, 40]\n",
      "[10, 20, 30, 40, 50, 60]\n",
      "[60, 70, 80, 90]\n",
      "[60, 70, 80, 90]\n"
     ]
    }
   ],
   "source": [
    "list = [10,20,30,40,50,60,70,80,90]\n",
    "slicea=list[:4]\n",
    "sliceb = list[0:6]\n",
    "print(slicea)\n",
    "print(sliceb)\n",
    "slice1 = list[5:]\n",
    "slice2 = list[5:len(list)]\n",
    "print(slice1)\n",
    "print(slice2)"
   ]
  },
  {
   "cell_type": "code",
   "execution_count": 28,
   "metadata": {},
   "outputs": [
    {
     "data": {
      "text/plain": [
       "['bananas', 'kiwi', 'oranges', 'cherry', 'guava']"
      ]
     },
     "execution_count": 28,
     "metadata": {},
     "output_type": "execute_result"
    }
   ],
   "source": [
    "fruits = []\n",
    "fruits.append(\"bananas\")\n",
    "fruits.append(\"kiwi\")\n",
    "fruits.append(\"oranges\")\n",
    "fruits.append(\"cherry\")\n",
    "fruits.append(\"guava\")\n",
    "fruits"
   ]
  },
  {
   "cell_type": "code",
   "execution_count": 32,
   "metadata": {},
   "outputs": [
    {
     "name": "stdout",
     "output_type": "stream",
     "text": [
      "['apple', 'mango', 'banana', 'cherry']\n"
     ]
    }
   ],
   "source": [
    "fruits = ['apple', 'mango', 'cherry']\n",
    "fruits.insert(2,\"banana\")\n",
    "print(fruits)"
   ]
  },
  {
   "cell_type": "code",
   "execution_count": 39,
   "metadata": {},
   "outputs": [
    {
     "data": {
      "text/plain": [
       "['almond', 'apple', 'cashew', 'cherry', 'mango', 'walnut']"
      ]
     },
     "execution_count": 39,
     "metadata": {},
     "output_type": "execute_result"
    }
   ],
   "source": [
    "fruits  = ['apple','mango','cherry']\n",
    "dry_fruits = ['cashew','almond','walnut']\n",
    "fruits.extend(dry_fruits)\n",
    "fruits\n",
    "fruits.sort()\n",
    "fruits"
   ]
  },
  {
   "cell_type": "code",
   "execution_count": 37,
   "metadata": {},
   "outputs": [
    {
     "data": {
      "text/plain": [
       "['apple', 'banana', 'cherry']"
      ]
     },
     "execution_count": 37,
     "metadata": {},
     "output_type": "execute_result"
    }
   ],
   "source": [
    "fruits = ['cherry','apple','banana']\n",
    "fruits.sort()\n",
    "fruits\n",
    "          "
   ]
  },
  {
   "cell_type": "code",
   "execution_count": 40,
   "metadata": {},
   "outputs": [
    {
     "data": {
      "text/plain": [
       "['apple', 'mango']"
      ]
     },
     "execution_count": 40,
     "metadata": {},
     "output_type": "execute_result"
    }
   ],
   "source": [
    "fruits = ['banana','apple','mango']\n",
    "fruits.remove('banana')\n",
    "fruits"
   ]
  },
  {
   "cell_type": "code",
   "execution_count": 42,
   "metadata": {},
   "outputs": [
    {
     "data": {
      "text/plain": [
       "['apple', 'mango']"
      ]
     },
     "execution_count": 42,
     "metadata": {},
     "output_type": "execute_result"
    }
   ],
   "source": [
    "fruits = ['banana','apple','mango']\n",
    "fruits.pop(0)\n",
    "fruits\n"
   ]
  },
  {
   "cell_type": "code",
   "execution_count": 43,
   "metadata": {},
   "outputs": [
    {
     "data": {
      "text/plain": [
       "['strawberry', 'kiwi', 'cherry']"
      ]
     },
     "execution_count": 43,
     "metadata": {},
     "output_type": "execute_result"
    }
   ],
   "source": [
    "fruits = ['cherry','kiwi','strawberry']\n",
    "fruits.reverse()\n",
    "fruits\n"
   ]
  },
  {
   "cell_type": "code",
   "execution_count": 47,
   "metadata": {},
   "outputs": [
    {
     "data": {
      "text/plain": [
       "3"
      ]
     },
     "execution_count": 47,
     "metadata": {},
     "output_type": "execute_result"
    }
   ],
   "source": [
    "a = ['e','e','b','c','c','d','d','d']\n",
    "a.count('d')"
   ]
  },
  {
   "cell_type": "code",
   "execution_count": 52,
   "metadata": {},
   "outputs": [
    {
     "name": "stdout",
     "output_type": "stream",
     "text": [
      "(1, 2, 3, 4)\n",
      "(1, 2, [31245], 'abhijeet')\n",
      "('cat', 1, 2.4, 3.6, 4, 'dog')\n",
      "('cat', 'dog', 'mango', 6, 7, [8785])\n"
     ]
    }
   ],
   "source": [
    "tuple = (1,2,3,4)\n",
    "print(tuple)\n",
    "a = (1,2,[31245],\"abhijeet\")\n",
    "print(a)\n",
    "b = ('cat',1,2.4,3.6,4,'dog')\n",
    "print(b)\n",
    "c = 'cat','dog','mango',6,7,[8785]\n",
    "print(c)"
   ]
  },
  {
   "cell_type": "code",
   "execution_count": 62,
   "metadata": {},
   "outputs": [
    {
     "name": "stdout",
     "output_type": "stream",
     "text": [
      "p\n",
      "l\n",
      "o\n"
     ]
    }
   ],
   "source": [
    "x = ('l','m','n','o','p',)\n",
    "print(x[4])\n",
    "print(x[0])\n",
    "print(x[3\n",
    "        ])\n"
   ]
  },
  {
   "cell_type": "code",
   "execution_count": 67,
   "metadata": {},
   "outputs": [
    {
     "name": "stdout",
     "output_type": "stream",
     "text": [
      "('b', 'c', 'd')\n",
      "('a', 'b', 'c', 'd')\n",
      "('a', 'b', 'c', 'd', 'e', 'f')\n",
      "('a', 'b', 'c', 'd', 'e', 'f', 'g', 'h', 'a')\n",
      "('f', 'g', 'h', 'a')\n",
      "4\n",
      "2\n"
     ]
    }
   ],
   "source": [
    "tuple = ('a','b','c','d','e','f','g','h','a')\n",
    "print(tuple[1:4])\n",
    "print(tuple[:-5])\n",
    "print(tuple[:6])\n",
    "print(tuple[:])\n",
    "print(tuple[5:])\n",
    "print(tuple.index('e'))\n",
    "print(tuple.count('a'))\n"
   ]
  },
  {
   "cell_type": "code",
   "execution_count": 69,
   "metadata": {},
   "outputs": [
    {
     "name": "stdout",
     "output_type": "stream",
     "text": [
      "(1, 2, 3, 4, 5, 6)\n",
      "juryjuryjuryjury\n"
     ]
    }
   ],
   "source": [
    "print((1,2,3)+(4,5,6))\n",
    "print(('jury')*4)\n"
   ]
  },
  {
   "cell_type": "markdown",
   "metadata": {},
   "source": [
    "#set"
   ]
  },
  {
   "cell_type": "code",
   "execution_count": 90,
   "metadata": {},
   "outputs": [
    {
     "name": "stdout",
     "output_type": "stream",
     "text": [
      "{1, 2, 3}\n",
      "{2, 3, 4, 5, 2.3, 'mango', 567, 'hello'}\n",
      "{1, 2, 3, 4, 5}\n",
      "[1, 2, 3, 4, 5]\n",
      "{1, 2, 3, 4, 5, 6, 7}\n",
      "{1, 2, 3, 5, 6, 7}\n",
      "{2, 3, 5, 6, 7}\n",
      "set()\n"
     ]
    }
   ],
   "source": [
    "set = {1,2,3}\n",
    "print(set)\n",
    "set1 = {2.3,'hello',(567),2,3,4,5,'mango'}\n",
    "print(set1)\n",
    "set2 = {1,2,2,2,3,4,4,4,4,5,5}\n",
    "print(set2)\n",
    "set3 = ([1,2,3,4,5])\n",
    "print(set3)\n",
    "my_set={1,2,3,4,5,6,7}\n",
    "my_set.add(2)\n",
    "print(my_set)\n",
    "my_set.discard(4)\n",
    "print(my_set)\n",
    "my_set.pop()\n",
    "print(my_set)\n",
    "my_set.clear()\n",
    "print(my_set)"
   ]
  },
  {
   "cell_type": "code",
   "execution_count": 102,
   "metadata": {},
   "outputs": [
    {
     "name": "stdout",
     "output_type": "stream",
     "text": [
      "{1, 2, 3, 4, 5, 6, 7, 8}\n",
      "{1, 2, 3, 4, 5, 6, 7, 8}\n",
      "{1, 2, 3, 4, 5, 6, 7, 8}\n",
      "{1, 2, 3, 4, 5, 6, 7, 8}\n",
      "{4, 5}\n",
      "{1, 2, 3}\n",
      "{8, 6, 7}\n",
      "{1, 2, 3, 6, 7, 8}\n"
     ]
    },
    {
     "data": {
      "text/plain": [
       "{1, 2, 3, 6, 7, 8}"
      ]
     },
     "execution_count": 102,
     "metadata": {},
     "output_type": "execute_result"
    }
   ],
   "source": [
    "a = {1,2,3,4,5}\n",
    "b = {4,5,6,7,8}\n",
    "print(a.union(b))\n",
    "print(b.union(a))\n",
    "print(a|b)\n",
    "print(b|a)\n",
    "print(a&b)\n",
    "a.intersection(b)\n",
    "print(a-b)\n",
    "print(b-a)\n",
    "a.difference(b)\n",
    "b.difference(a)\n",
    "print(a^b)\n",
    "a.symmetric_difference(b)"
   ]
  },
  {
   "cell_type": "markdown",
   "metadata": {},
   "source": [
    "#dictionary"
   ]
  },
  {
   "cell_type": "code",
   "execution_count": 113,
   "metadata": {},
   "outputs": [
    {
     "name": "stdout",
     "output_type": "stream",
     "text": [
      "27\n",
      "jacob\n",
      "jacob\n",
      "None\n"
     ]
    }
   ],
   "source": [
    "dict = {'name': 'jacob', 'age': '27'}\n",
    "print(dict.get('age'))\n",
    "print(dict['name'])\n",
    "print(dict.get('name'))\n",
    "print(dict.get('address'))"
   ]
  },
  {
   "cell_type": "markdown",
   "metadata": {},
   "source": [
    "#add or update data in dict"
   ]
  },
  {
   "cell_type": "code",
   "execution_count": 114,
   "metadata": {},
   "outputs": [
    {
     "name": "stdout",
     "output_type": "stream",
     "text": [
      "{'name': 'jacob', 'age': 29}\n"
     ]
    }
   ],
   "source": [
    "dict['age']=29\n",
    "print(dict)\n"
   ]
  },
  {
   "cell_type": "code",
   "execution_count": 115,
   "metadata": {},
   "outputs": [
    {
     "name": "stdout",
     "output_type": "stream",
     "text": [
      "{'name': 'jacob', 'age': 29, 'address': 'london'}\n"
     ]
    }
   ],
   "source": [
    "dict['address']= 'london'\n",
    "print(dict)"
   ]
  },
  {
   "cell_type": "code",
   "execution_count": 116,
   "metadata": {},
   "outputs": [
    {
     "name": "stdout",
     "output_type": "stream",
     "text": [
      "4\n",
      "(5, 5)\n"
     ]
    },
    {
     "data": {
      "text/plain": [
       "<function dict.clear>"
      ]
     },
     "execution_count": 116,
     "metadata": {},
     "output_type": "execute_result"
    }
   ],
   "source": [
    "square = {1:1, 2:2, 3:3, 4:4, 5:5}\n",
    "print(square.pop(4))\n",
    "print(square.popitem())\n",
    "square.clear"
   ]
  }
 ],
 "metadata": {
  "kernelspec": {
   "display_name": "base",
   "language": "python",
   "name": "python3"
  },
  "language_info": {
   "codemirror_mode": {
    "name": "ipython",
    "version": 3
   },
   "file_extension": ".py",
   "mimetype": "text/x-python",
   "name": "python",
   "nbconvert_exporter": "python",
   "pygments_lexer": "ipython3",
   "version": "3.11.5"
  }
 },
 "nbformat": 4,
 "nbformat_minor": 2
}
