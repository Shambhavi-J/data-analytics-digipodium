{
 "cells": [
  {
   "cell_type": "code",
   "execution_count": null,
   "metadata": {},
   "outputs": [],
   "source": [
    "my_string= 'hello'\n",
    "print(my_string)"
   ]
  },
  {
   "cell_type": "code",
   "execution_count": 21,
   "metadata": {},
   "outputs": [
    {
     "name": "stdout",
     "output_type": "stream",
     "text": [
      "hello\n"
     ]
    }
   ],
   "source": [
    "my_string = \"hello\"\n",
    "print(my_string)"
   ]
  },
  {
   "cell_type": "code",
   "execution_count": 20,
   "metadata": {},
   "outputs": [
    {
     "name": "stdout",
     "output_type": "stream",
     "text": [
      "hello\n"
     ]
    }
   ],
   "source": [
    "my_string = '''hello'''\n",
    "print(my_string)"
   ]
  },
  {
   "cell_type": "code",
   "execution_count": 42,
   "metadata": {},
   "outputs": [
    {
     "ename": "NameError",
     "evalue": "name 'ch' is not defined",
     "output_type": "error",
     "traceback": [
      "\u001b[1;31m---------------------------------------------------------------------------\u001b[0m",
      "\u001b[1;31mNameError\u001b[0m                                 Traceback (most recent call last)",
      "Cell \u001b[1;32mIn[42], line 1\u001b[0m\n\u001b[1;32m----> 1\u001b[0m x \u001b[38;5;241m=\u001b[39m ch(\u001b[38;5;241m65\u001b[39m)\n",
      "\u001b[1;31mNameError\u001b[0m: name 'ch' is not defined"
     ]
    }
   ],
   "source": [
    "x = ch(65)"
   ]
  },
  {
   "cell_type": "code",
   "execution_count": 40,
   "metadata": {},
   "outputs": [
    {
     "name": "stdout",
     "output_type": "stream",
     "text": [
      "65\n"
     ]
    }
   ],
   "source": [
    "y = ord('A')\n",
    "print(y)"
   ]
  },
  {
   "cell_type": "code",
   "execution_count": 19,
   "metadata": {},
   "outputs": [
    {
     "name": "stdout",
     "output_type": "stream",
     "text": [
      "hello, welcome to the world of python\n"
     ]
    }
   ],
   "source": [
    "my_string=\"\"\"hello, welcome to the world of python\"\"\"\n",
    "print(my_string)"
   ]
  },
  {
   "cell_type": "code",
   "execution_count": 18,
   "metadata": {},
   "outputs": [
    {
     "name": "stdout",
     "output_type": "stream",
     "text": [
      "str = digipodium\n"
     ]
    }
   ],
   "source": [
    "str ='digipodium'\n",
    "print('str =',str)"
   ]
  },
  {
   "cell_type": "code",
   "execution_count": 10,
   "metadata": {},
   "outputs": [],
   "source": [
    "username = '@edward123'"
   ]
  },
  {
   "cell_type": "code",
   "execution_count": 17,
   "metadata": {},
   "outputs": [
    {
     "data": {
      "text/plain": [
       "'edward'"
      ]
     },
     "execution_count": 17,
     "metadata": {},
     "output_type": "execute_result"
    }
   ],
   "source": [
    "username[1:7]\n",
    "username[1:-3]"
   ]
  },
  {
   "cell_type": "code",
   "execution_count": 5,
   "metadata": {},
   "outputs": [],
   "source": [
    "name = 'krishna murthy kariappa' "
   ]
  },
  {
   "cell_type": "code",
   "execution_count": 24,
   "metadata": {},
   "outputs": [
    {
     "data": {
      "text/plain": [
       "'murthy '"
      ]
     },
     "execution_count": 24,
     "metadata": {},
     "output_type": "execute_result"
    }
   ],
   "source": [
    "name[8:15]"
   ]
  },
  {
   "cell_type": "code",
   "execution_count": 30,
   "metadata": {},
   "outputs": [
    {
     "data": {
      "text/plain": [
       "'abcdedf'"
      ]
     },
     "execution_count": 30,
     "metadata": {},
     "output_type": "execute_result"
    }
   ],
   "source": [
    "eng = 'abcdedfghijkl'\n",
    "eng[:7]"
   ]
  },
  {
   "cell_type": "code",
   "execution_count": 28,
   "metadata": {},
   "outputs": [
    {
     "data": {
      "text/plain": [
       "'abcdedfghijkl'"
      ]
     },
     "execution_count": 28,
     "metadata": {},
     "output_type": "execute_result"
    }
   ],
   "source": [
    "eng[::1]"
   ]
  },
  {
   "cell_type": "code",
   "execution_count": 29,
   "metadata": {},
   "outputs": [
    {
     "data": {
      "text/plain": [
       "'lkjihgfdedcba'"
      ]
     },
     "execution_count": 29,
     "metadata": {},
     "output_type": "execute_result"
    }
   ],
   "source": [
    "eng[::-1]"
   ]
  },
  {
   "cell_type": "code",
   "execution_count": 36,
   "metadata": {},
   "outputs": [
    {
     "data": {
      "text/plain": [
       "\"'the quick\""
      ]
     },
     "execution_count": 36,
     "metadata": {},
     "output_type": "execute_result"
    }
   ],
   "source": [
    "msg=\"'the quick brown fox jumped over the lazy dog\"\n",
    "msg[:10]"
   ]
  },
  {
   "cell_type": "code",
   "execution_count": 37,
   "metadata": {},
   "outputs": [
    {
     "data": {
      "text/plain": [
       "'e lazy dog'"
      ]
     },
     "execution_count": 37,
     "metadata": {},
     "output_type": "execute_result"
    }
   ],
   "source": [
    "msg[-10:]"
   ]
  },
  {
   "cell_type": "code",
   "execution_count": null,
   "metadata": {},
   "outputs": [],
   "source": []
  },
  {
   "cell_type": "code",
   "execution_count": 47,
   "metadata": {},
   "outputs": [
    {
     "name": "stdout",
     "output_type": "stream",
     "text": [
      "Iclearcdsexam\n"
     ]
    }
   ],
   "source": [
    "a = 'I'\n",
    "b = 'clear'\n",
    "c = 'cds'\n",
    "e = 'exam'\n",
    "msg= a + b + c + e \n",
    "print(msg)\n"
   ]
  },
  {
   "cell_type": "code",
   "execution_count": 49,
   "metadata": {},
   "outputs": [
    {
     "name": "stdout",
     "output_type": "stream",
     "text": [
      "you madyou madyou mad\n"
     ]
    }
   ],
   "source": [
    "print (\"you mad\"*3)"
   ]
  },
  {
   "cell_type": "code",
   "execution_count": 1,
   "metadata": {},
   "outputs": [
    {
     "data": {
      "text/plain": [
       "<function str.capitalize()>"
      ]
     },
     "execution_count": 1,
     "metadata": {},
     "output_type": "execute_result"
    }
   ],
   "source": [
    "###string methods \n",
    "find and replace \n"
   ]
  },
  {
   "cell_type": "code",
   "execution_count": 8,
   "metadata": {},
   "outputs": [
    {
     "name": "stdout",
     "output_type": "stream",
     "text": [
      "16\n",
      "12\n",
      "-1\n",
      "the quick brown fox jumped over the lazy cat\n",
      "thz quick brown fox jumpzd ovzr thz lazy dog\n",
      "the quick brown bear jumped under the lazy dog\n"
     ]
    }
   ],
   "source": [
    "x = 'the quick brown fox jumped over the lazy dog'\n",
    "print(x.find('fox'))\n",
    "print(x.find('o'))\n",
    "print(x.find('cat'))\n",
    "print(x.replace('dog','cat'))\n",
    "print(x.replace('e','z'))\n",
    "print(x.replace('fox','bear').replace('over','under'))"
   ]
  },
  {
   "cell_type": "code",
   "execution_count": 24,
   "metadata": {},
   "outputs": [
    {
     "name": "stdout",
     "output_type": "stream",
     "text": [
      "['jacob is a nice singer']\n",
      "['an honest man is the noblest creation of god that means an honest man is the gift for the word']\n",
      "abcde\n",
      "a.b.c.d.e\n",
      "a@b@c@d@e\n"
     ]
    }
   ],
   "source": [
    "#split,join,strip functions\n",
    "y = 'jacob is a nice singer'\n",
    "print(y.split(',,,,'))\n",
    "z = '''an honest man is the noblest creation of god that means an honest man is the gift for the word'''\n",
    "print(z.splitlines())\n",
    "x = ['a','b','c','d','e']\n",
    "print(\"\".join(x))\n",
    "print('.'.join(x))\n",
    "print('@'.join(x))"
   ]
  },
  {
   "cell_type": "code",
   "execution_count": 29,
   "metadata": {},
   "outputs": [
    {
     "name": "stdout",
     "output_type": "stream",
     "text": [
      "mango\n",
      "car  rot\n",
      "bananas     are rich     in calcium        and potassium\n",
      "kiwi\n"
     ]
    }
   ],
   "source": [
    "a = '  mango'\n",
    "b = 'car  rot'\n",
    "c = 'bananas     are rich     in calcium        and potassium   '\n",
    "d = '    kiwi'\n",
    "print(a.strip())\n",
    "print(b.strip())\n",
    "print(c.strip())\n",
    "print(d.strip())\n"
   ]
  },
  {
   "cell_type": "code",
   "execution_count": 38,
   "metadata": {},
   "outputs": [
    {
     "name": "stdout",
     "output_type": "stream",
     "text": [
      "10\n",
      "6\n",
      "3\n",
      "THERE WAS A SLY FOX THAT LIVED IN THE FOREST NEAR THE VILLAGE WHOM HE TROUBLED ALOT\n",
      "There was a sly fox that lived in the forest near the village whom he troubled alot\n",
      "There Was A Sly Fox That Lived In The Forest Near The Village Whom He Troubled Alot\n"
     ]
    }
   ],
   "source": [
    "line = '''there was a sly fox that lived in the forest near the village whom he troubled alot'''\n",
    "print(line.count('e'))\n",
    "print(line.count('a'))\n",
    "print(line.count('the'))\n",
    "print(line.upper())\n",
    "print(line.capitalize())\n",
    "print(line.title())"
   ]
  }
 ],
 "metadata": {
  "kernelspec": {
   "display_name": "base",
   "language": "python",
   "name": "python3"
  },
  "language_info": {
   "codemirror_mode": {
    "name": "ipython",
    "version": 3
   },
   "file_extension": ".py",
   "mimetype": "text/x-python",
   "name": "python",
   "nbconvert_exporter": "python",
   "pygments_lexer": "ipython3",
   "version": "3.11.5"
  }
 },
 "nbformat": 4,
 "nbformat_minor": 2
}
